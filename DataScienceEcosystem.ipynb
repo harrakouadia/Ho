{
  "metadata": {
    "language_info": {
      "codemirror_mode": {
        "name": "python",
        "version": 3
      },
      "file_extension": ".py",
      "mimetype": "text/x-python",
      "name": "python",
      "nbconvert_exporter": "python",
      "pygments_lexer": "ipython3",
      "version": "3.8"
    },
    "kernelspec": {
      "name": "python",
      "display_name": "Python (Pyodide)",
      "language": "python"
    }
  },
  "nbformat_minor": 4,
  "nbformat": 4,
  "cells": [
    {
      "cell_type": "markdown",
      "source": "# Data Science Tools and Ecosystem\n\n In this notebook, Data Science Tools and Ecosystem are summarized.\n Some of the popular languages that Data Scientists use are:\n- Python\n- R\n- SQL\n\nSome of the commonly used libraries used by Data Scientists include:\n\n- NumPy \n- Pandas \n- Keras \n- PyTorch \n- TensorFlow \n- Scrapy",
      "metadata": {}
    },
    {
      "cell_type": "markdown",
      "source": "\n \n |Data Science Tools |\n| ------------------ |\n| Python             |\n| R            |\n| Jupyter Notebook             |\n | SQL            |\n| Git            |\n| Visual Studio Code           |\n | Spark            |\n| Docker           |\n| Airflow             |\n ",
      "metadata": {}
    },
    {
      "cell_type": "markdown",
      "source": "### Below are a few examples of evaluating arithmetic expressions in Python",
      "metadata": {}
    },
    {
      "cell_type": "markdown",
      "source": "This a simple arithmetic expression to mutiply then add integers",
      "metadata": {}
    },
    {
      "cell_type": "code",
      "source": "(3*4)+5",
      "metadata": {
        "trusted": true
      },
      "execution_count": 4,
      "outputs": [
        {
          "execution_count": 4,
          "output_type": "execute_result",
          "data": {
            "text/plain": "17"
          },
          "metadata": {}
        }
      ]
    },
    {
      "cell_type": "code",
      "source": "print('This will convert 200 minutes to hours by diving by 60')\n200/60",
      "metadata": {
        "trusted": true
      },
      "execution_count": 6,
      "outputs": [
        {
          "name": "stdout",
          "text": "This will convert 200 minutes to hours by diving by 60\n",
          "output_type": "stream"
        },
        {
          "execution_count": 6,
          "output_type": "execute_result",
          "data": {
            "text/plain": "3.3333333333333335"
          },
          "metadata": {}
        }
      ]
    },
    {
      "cell_type": "markdown",
      "source": "\nObjectives:\n**Data Science is a multidisciplinary field that involves using scientific methods, processes, algorithms, and systems to extract knowledge and insights from structured and unstructured data. The main objectives of Data Science are to discover hidden patterns in data, make predictions, and support decision-making. Data Scientists use a variety of tools and techniques from statistics, mathematics, computer science, and information science to achieve these objectives. By analyzing and interpreting complex data sets, Data Scientists can help organizations make more informed decisions and improve their operations.**\n\n",
      "metadata": {}
    },
    {
      "cell_type": "markdown",
      "source": "## Author : HARRAK OUADIA",
      "metadata": {}
    },
    {
      "cell_type": "code",
      "source": "",
      "metadata": {},
      "execution_count": null,
      "outputs": []
    },
    {
      "cell_type": "code",
      "source": "",
      "metadata": {},
      "execution_count": null,
      "outputs": []
    }
  ]
}